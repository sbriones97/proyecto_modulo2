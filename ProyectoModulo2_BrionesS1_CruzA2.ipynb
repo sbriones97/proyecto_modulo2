{
 "cells": [
  {
   "cell_type": "markdown",
   "metadata": {},
   "source": [
    "**29 de abril de 2019**                                                                                              \n",
    "\n",
    "> # Proyecto #2 # \n",
    "---\n",
    "## Simulación Matemática\n",
    "## Profesor: Cristian Camilo Zapata Zuluaga\n",
    "## Título. Imágenes fractales aleatorias \n",
    "## Integrantes: \n",
    "\n",
    "**1. Salvador Octavio Briones Martinez**\n",
    "\n",
    "**2. Aristofanes Cruz Huante**\n"
   ]
  },
  {
   "cell_type": "markdown",
   "metadata": {},
   "source": [
    "# Título\n",
    "\n",
    "## Imágenes fractales aleatorias\n",
    "\n",
    "## *1. Resumen*\n",
    "\n",
    "A partir de la teoría acerca del algoritmo diamante cuadrado, se busca generar un terreno tridimensional que asemeje la apariencia de formaciones rocosas a partir de un fractal tipo plasma. Para ello, se emplea el concepto de variable aleatoria, la cuál funciona como una semilla que determina la distribución de la formación. Los datos de la semilla se agrupan en una matriz, y utilizando la teoría del algorimo diamante cuadrado se van determinando las locaciones de cada punto, ya sea de los pixeles o puntos de la montaña.\n",
    "\n",
    "<img style=\"float: left; margin: 0px 0px 0px 0px;\" src=\"https://upload.wikimedia.org/wikipedia/commons/6/6d/Animated_fractal_mountain.gif\" width=\"300px\" height=\"100px\" />\n"
   ]
  },
  {
   "cell_type": "markdown",
   "metadata": {},
   "source": [
    "## *2. Objetivos*\n",
    "\n",
    "**2.1 Objetivo general**\n",
    "- Generar terrenos tridimensionales aleatorios que asemejen la apariencia de montañas.\n",
    "\n",
    "**2.2 Objetivos específicos**\n",
    "\n",
    "- Conocer el uso de el algoritmo diamante-cuadrado.\n",
    "- Generar un fractal de tipo plasma.\n",
    "- Graficar el fractal de plasma en 3 dimensiones.\n"
   ]
  },
  {
   "cell_type": "markdown",
   "metadata": {},
   "source": [
    "## *3. Modelo que representa el problema*\n",
    "\n",
    "La teoría del algoritmo diamante-cuadrado define que se tiene que comenzar con una matriz cuadrada con dimensiones  $2^n +1$, donde la n representa las iteraciones y el +1 nos ayuda a que siempre haya un centro definiendo lados impares. \n",
    "\n",
    "La siguiente imagen representa el comportamiento a seguir del algoritmo, en este caso 2 iteraciones, lo que genera una matriz de 5x5.\n",
    "\n",
    "<img style=\"float: center; \" src=\"https://upload.wikimedia.org/wikipedia/commons/thumb/b/bf/Diamond_Square.svg/1200px-Diamond_Square.svg.png\" width=\"900px\" height=\"300px\" />\n",
    "\n",
    "\n",
    "\n",
    "Como podemos observar en la primera imagen, inicialmente tenemos cuatro esquinas asignadas con valores aleatorios. Utilizando el promedio de las 4 esquinas se genera el centro, a esto se le denomina etapa diamante. Los puntos que quedan en horizontal y vertical a ese centro son generados con el promedio de sus 3 vecinos inmediatos, este paso es lo que se conoce como etapa cuadrado. Este proceso se repite hasta que todas las casillas quedan ocupadas, donde el número de veces que se repite este proceso, son las iteraciones definidas, en el caso de este ejemplo 2 veces. \n",
    "\n",
    "Limitaciones del algoritmo: A partir de n>8 existen limitaciones de Hardware para ejecutarse."
   ]
  },
  {
   "cell_type": "markdown",
   "metadata": {},
   "source": [
    "## *4. Solución del problema*\n",
    "\n",
    "## Enunciado.\n",
    "A partir de la teoría del algoritmo diamante-cuadrado, se procede a su solución."
   ]
  },
  {
   "cell_type": "code",
   "execution_count": 1,
   "metadata": {
    "collapsed": true
   },
   "outputs": [],
   "source": [
    "import numpy as np\n",
    "import matplotlib.pyplot as plt\n",
    "from matplotlib import cm\n",
    "from mpl_toolkits.mplot3d import Axes3D\n",
    "import random\n",
    "import time\n",
    "import ipywidgets as widgets\n",
    "from ipywidgets import interact, interactive, fixed, interact_manual\n",
    "%matplotlib inline"
   ]
  },
  {
   "cell_type": "code",
   "execution_count": 2,
   "metadata": {
    "collapsed": true,
    "scrolled": false
   },
   "outputs": [],
   "source": [
    "def Diamond_square(n):\n",
    "    \n",
    "    N = 2**n + 1\n",
    "    # f escala los valores aleatorios\n",
    "    f = 100.0\n",
    "\n",
    "    arr = np.zeros((N, N)) # Inicia la matriz con 0 en todo su cuerpo\n",
    "    arr[0::N-1,0::N-1] = np.random.uniform(-1, 1, (2,2))*f # Asigna valores aleatorios a las esquinas\n",
    "    side = N-1  #Define la magnitud de los lados de esa capa\n",
    "\n",
    "    k = 1 #Variable auxiliar\n",
    "\n",
    "    while side > 1:\n",
    "        sideo2 = side // 2 #Divide la magnitud lateral ignorando residuos\n",
    "\n",
    "        # Diamond step, por cada cuadrado en el arreglo define el punto medio con el promedio de las esquinas \n",
    "        for ix in range(k):\n",
    "            for iy in range(k):\n",
    "                x0, x1, y0, y1 = ix*side, (ix+1)*side, iy*side, (iy+1)*side #Define los bordes del cuadrante\n",
    "           \n",
    "            #Define las coordenadas del centro en el arreglo\n",
    "                xc = x0 + sideo2  \n",
    "                yc = y0 + sideo2\n",
    "            \n",
    "        #Coloca el pixel en el promedio de sus \"vecinos\" del diamante, mas un desplazamiento aleatorio.\n",
    "                arr[yc,xc] = (arr[y0,x0] + arr[y0,x1] + arr[y1,x0] + arr[y1,x1])/4\n",
    "                arr[yc,xc] += f * np.random.uniform(-1,1)\n",
    "\n",
    "    # Square step, por cada diamante en el arreglo define el punto medio con el promedio de las esquinas \n",
    "        for iy in range(2*k+1):\n",
    "            yc = sideo2 * iy\n",
    "            for ix in range(k+1):\n",
    "                xc = side * ix + sideo2 * (1 - iy % 2)\n",
    "                if not (0 <= xc < N and 0 <= yc < N):\n",
    "                    continue\n",
    "                tot, ntot = 0., 0\n",
    "            #Coloca el pixel en el promedio de sus \"vecinos\" del cuadrado, mas un desplazamiento aleatorio.\n",
    "            #En los bordes solo tiene 3 vecinos\n",
    "                for (dx, dy) in ((-1,0), (1,0), (0,-1), (0,1)):\n",
    "                    xs, ys = xc + dx*sideo2, yc + dy*sideo2\n",
    "                    if not (0 <= xs < N and 0 <= ys < N):\n",
    "                        continue\n",
    "                    else:\n",
    "                        tot += arr[ys, xs]\n",
    "                        ntot += 1\n",
    "                arr[yc, xc] += tot / ntot + f * np.random.uniform(-1,1)\n",
    "        side = sideo2\n",
    "        k *= 2 #Sirve para nuestra función 2**n + 1\n",
    "        f/= 2  #Reduce el factor de escala entre cada nivel, produce una forma más \"Estética en las alturas\"\n",
    "        \n",
    "    def f_plotting(arr1, N, plot_type):\n",
    "        \n",
    "        if plot_type == 3:\n",
    "            x_index = [i for i in range(0, N)]\n",
    "            y_index = [i for i in range(0, N)]\n",
    "            x_vals, y_vals = np.meshgrid(x_index, y_index)\n",
    "            fig = plt.figure(figsize=(16,8))\n",
    "            p2 = fig.add_subplot(111, projection=\"3d\")\n",
    "            p2.set_title(\"Diamond-Square 3D - n = %s\"%n,fontsize=20)\n",
    "            p2.set_aspect(\"equal\")\n",
    "            p2.set_xlabel('X')\n",
    "            p2.set_ylabel('Y')\n",
    "            p2.set_zlabel('Z')\n",
    "            p2.plot_surface(x_vals,y_vals, arr1, rstride=1, cstride=1,cmap=plt.cm.Spectral)\n",
    "            plt.show()\n",
    "        else:\n",
    "            fig = plt.figure(figsize=(16,8))\n",
    "            p3 = fig.add_subplot(111)\n",
    "            p3.set_title(\"Fractal plasma - n = %s\"%n,fontsize =20)\n",
    "            p3.set_aspect(\"equal\")\n",
    "            plt.xlabel('$x$',fontsize=16)\n",
    "            plt.ylabel('$y$',fontsize=16)\n",
    "            plt.imshow(arr1, origin=\"lower\", cmap=plt.cm.Blues)\n",
    "            plt.show()\n",
    "            \n",
    "    \n",
    "    plot_type = 2\n",
    "    f_plotting(arr, N, plot_type)\n",
    "    plot_type = 3\n",
    "    f_plotting(arr, N, plot_type)\n",
    "    "
   ]
  },
  {
   "cell_type": "markdown",
   "metadata": {},
   "source": [
    "Con dicho algoritmo basado en la teoría del algoritmo diamante-cuadrado, se logró asignar todos los puntos de la matriz, posteriormente, se generarán el fractal tipo plasma y con él, el terreno tridimensional aleatorio.  "
   ]
  },
  {
   "cell_type": "markdown",
   "metadata": {},
   "source": [
    "## *5. Visualización de la solución del problema*\n",
    "**Una vez asignados todos los puntos de la matriz, se obtiene el fractal tipo plasma y con él se genera la forma de montaña  como se muestra a continuación:**"
   ]
  },
  {
   "cell_type": "code",
   "execution_count": 3,
   "metadata": {},
   "outputs": [
    {
     "data": {
      "application/vnd.jupyter.widget-view+json": {
       "model_id": "e6f85ae2ad5945bf9a1b48fa27d2aa66",
       "version_major": 2,
       "version_minor": 0
      },
      "text/plain": [
       "A Jupyter Widget"
      ]
     },
     "metadata": {},
     "output_type": "display_data"
    }
   ],
   "source": [
    "interact_manual(Diamond_square, n = (1, 8, 1));\n"
   ]
  },
  {
   "cell_type": "markdown",
   "metadata": {},
   "source": [
    "Aquí se muestran los gráficos aleatorios generados con n=8, generando el entorno visual esperado."
   ]
  },
  {
   "cell_type": "markdown",
   "metadata": {},
   "source": [
    "## *6. Conclusiones*\n",
    "\n",
    "Las formas fractales se parecen mucho a formas encontradas en la naturaleza al realizar algoritmos en específicos desde la 2D, pero también en la 3D. En el caso de este algoritmo, encontramos limitaciones para poder tener una mayor resolución del resultado, pero que se puede realizar pruebas y análisis interesantes con aquellas configuraciones que están disponibles, en este caso, gracias a las funciones que son el generar un fractal de tipo plasma y poder graficar el fractal de plasma en 3 dimensiones.\n"
   ]
  },
  {
   "cell_type": "markdown",
   "metadata": {},
   "source": [
    "## *7. Referencias*\n",
    "\n",
    "Burelo, E. (2010). Metodología \"Objetivos\" Generales y Específicos. Marzo 09, 2019, de SlideShare Sitio web: https://es.slideshare.net/rosbur/metodologia-objetivos-generales-y-especficos\n",
    "\n",
    "Matplotlib development team. (2017). mplot3d example code: text3d_demo.py. abril 28, 2019, de matplotlib Sitio web: https://matplotlib.org/2.0.2/examples/mplot3d/text3d_demo.html\n",
    "\n",
    "Losh, S.. (2016). Terrain Generation with Diamond Square. abril 28, 2019. Sitio web: http://stevelosh.com/blog/2016/06/diamond-square/\n",
    "\n",
    "Wikipedia contributors. (2019, February 20). Diamond-square algorithm. In Wikipedia, The Free Encyclopedia. Retrieved 00:33, April 29, 2019, from https://en.wikipedia.org/w/index.php?title=Diamond-square_algorithm&oldid=884180785\n",
    "\n"
   ]
  }
 ],
 "metadata": {
  "kernelspec": {
   "display_name": "Python 3",
   "language": "python",
   "name": "python3"
  },
  "language_info": {
   "codemirror_mode": {
    "name": "ipython",
    "version": 3
   },
   "file_extension": ".py",
   "mimetype": "text/x-python",
   "name": "python",
   "nbconvert_exporter": "python",
   "pygments_lexer": "ipython3",
   "version": "3.7.3"
  }
 },
 "nbformat": 4,
 "nbformat_minor": 2
}
